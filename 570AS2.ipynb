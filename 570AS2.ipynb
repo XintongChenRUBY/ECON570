{
 "cells": [
  {
   "cell_type": "code",
   "execution_count": 40,
   "metadata": {},
   "outputs": [],
   "source": [
    "import pandas as pd\n",
    "import numpy as np\n",
    "import random\n",
    "import statsmodels.api as sm\n",
    "from sklearn.model_selection import cross_val_score\n",
    "from sklearn.model_selection import RepeatedKFold\n",
    "from sklearn.linear_model import Lasso\n",
    "from sklearn.feature_selection import SelectFromModel\n",
    "import matplotlib.pyplot as plt\n",
    "from tqdm import tqdm\n",
    "import networkx as nx"
   ]
  },
  {
   "cell_type": "markdown",
   "metadata": {},
   "source": [
    "## Q1"
   ]
  },
  {
   "cell_type": "code",
   "execution_count": 41,
   "metadata": {},
   "outputs": [],
   "source": [
    "# simulate a DGP where the outcome of interest depends on a randomly assigned \n",
    "# treatment and some observed covariates.\n",
    "np.random.seed(100)\n",
    "n = 1000\n",
    "T = np.random.binomial(1, 0.5, n)\n",
    "x = np.random.normal(50,15,n)\n",
    "y = np.random.normal(1 + 1*T + 1*x, 15).astype(int)\n",
    "DGP_data1 = pd.DataFrame(dict(T = T, X = x, Y = y))\n",
    "\n",
    "DGP_data1.to_csv(\"DGP_data1.csv\", index=False)"
   ]
  },
  {
   "cell_type": "code",
   "execution_count": 42,
   "metadata": {},
   "outputs": [
    {
     "data": {
      "text/html": [
       "<div>\n",
       "<style scoped>\n",
       "    .dataframe tbody tr th:only-of-type {\n",
       "        vertical-align: middle;\n",
       "    }\n",
       "\n",
       "    .dataframe tbody tr th {\n",
       "        vertical-align: top;\n",
       "    }\n",
       "\n",
       "    .dataframe thead th {\n",
       "        text-align: right;\n",
       "    }\n",
       "</style>\n",
       "<table border=\"1\" class=\"dataframe\">\n",
       "  <thead>\n",
       "    <tr style=\"text-align: right;\">\n",
       "      <th></th>\n",
       "      <th>T</th>\n",
       "      <th>X</th>\n",
       "      <th>Y</th>\n",
       "    </tr>\n",
       "  </thead>\n",
       "  <tbody>\n",
       "    <tr>\n",
       "      <th>0</th>\n",
       "      <td>1</td>\n",
       "      <td>48.809505</td>\n",
       "      <td>33</td>\n",
       "    </tr>\n",
       "    <tr>\n",
       "      <th>1</th>\n",
       "      <td>0</td>\n",
       "      <td>45.225720</td>\n",
       "      <td>32</td>\n",
       "    </tr>\n",
       "    <tr>\n",
       "      <th>2</th>\n",
       "      <td>0</td>\n",
       "      <td>63.793155</td>\n",
       "      <td>41</td>\n",
       "    </tr>\n",
       "    <tr>\n",
       "      <th>3</th>\n",
       "      <td>1</td>\n",
       "      <td>41.582340</td>\n",
       "      <td>26</td>\n",
       "    </tr>\n",
       "    <tr>\n",
       "      <th>4</th>\n",
       "      <td>0</td>\n",
       "      <td>43.848320</td>\n",
       "      <td>52</td>\n",
       "    </tr>\n",
       "    <tr>\n",
       "      <th>...</th>\n",
       "      <td>...</td>\n",
       "      <td>...</td>\n",
       "      <td>...</td>\n",
       "    </tr>\n",
       "    <tr>\n",
       "      <th>995</th>\n",
       "      <td>1</td>\n",
       "      <td>64.565226</td>\n",
       "      <td>68</td>\n",
       "    </tr>\n",
       "    <tr>\n",
       "      <th>996</th>\n",
       "      <td>0</td>\n",
       "      <td>50.838400</td>\n",
       "      <td>48</td>\n",
       "    </tr>\n",
       "    <tr>\n",
       "      <th>997</th>\n",
       "      <td>0</td>\n",
       "      <td>47.983616</td>\n",
       "      <td>39</td>\n",
       "    </tr>\n",
       "    <tr>\n",
       "      <th>998</th>\n",
       "      <td>0</td>\n",
       "      <td>38.097376</td>\n",
       "      <td>58</td>\n",
       "    </tr>\n",
       "    <tr>\n",
       "      <th>999</th>\n",
       "      <td>1</td>\n",
       "      <td>68.727696</td>\n",
       "      <td>59</td>\n",
       "    </tr>\n",
       "  </tbody>\n",
       "</table>\n",
       "<p>1000 rows × 3 columns</p>\n",
       "</div>"
      ],
      "text/plain": [
       "     T          X   Y\n",
       "0    1  48.809505  33\n",
       "1    0  45.225720  32\n",
       "2    0  63.793155  41\n",
       "3    1  41.582340  26\n",
       "4    0  43.848320  52\n",
       "..  ..        ...  ..\n",
       "995  1  64.565226  68\n",
       "996  0  50.838400  48\n",
       "997  0  47.983616  39\n",
       "998  0  38.097376  58\n",
       "999  1  68.727696  59\n",
       "\n",
       "[1000 rows x 3 columns]"
      ]
     },
     "execution_count": 42,
     "metadata": {},
     "output_type": "execute_result"
    }
   ],
   "source": [
    "DGP_data1"
   ]
  },
  {
   "cell_type": "code",
   "execution_count": 43,
   "metadata": {},
   "outputs": [
    {
     "data": {
      "image/png": "[encoded data removed]",
      "text/plain": [
       "<Figure size 432x288 with 1 Axes>"
      ]
     },
     "metadata": {},
     "output_type": "display_data"
    }
   ],
   "source": [
    "# Illustrate your DGP with a DAG\n",
    "g1 = nx.DiGraph()\n",
    "g1.add_edges_from([(\"X\", \"Y\"), (\"T\", \"Y\")])\n",
    "plt.tight_layout()\n",
    "nx.draw_networkx(g1, arrows=True)"
   ]
  },
  {
   "cell_type": "markdown",
   "metadata": {},
   "source": [
    "$y_i = \\tau*T_i+e_i$"
   ]
  },
  {
   "cell_type": "markdown",
   "metadata": {},
   "source": [
    "Do not control for covariance"
   ]
  },
  {
   "cell_type": "code",
   "execution_count": 44,
   "metadata": {},
   "outputs": [],
   "source": [
    "class MonteCarlo_1():\n",
    "\n",
    "    def __init__(self, number):\n",
    "        self.number = number\n",
    "    \n",
    "    def simulate_data(self, beta0, beta1, n, sigma):\n",
    "        np.random.seed(100)\n",
    "        T = np.random.binomial(1, 0.5, n)\n",
    "        x = np.random.normal(50,15,n)\n",
    "        y = np.random.normal(beta0 + beta1*T + 1*x, 15).astype(int)\n",
    "    \n",
    "        return (y,T)\n",
    "    \n",
    "    def estimate_OLS_params(self, y, T):\n",
    "        model = sm.OLS(y,sm.add_constant(T))\n",
    "        res = model.fit()\n",
    "        \n",
    "        return res.params\n",
    "    \n",
    "    def run_model(self, beta0, beta1, n, sigma):\n",
    "        treatment_effect = []\n",
    "        bias = []\n",
    "        RMSE = []\n",
    "        for i in range(self.number):\n",
    "            y,T = self.simulate_data(beta0, beta1, n,sigma)\n",
    "            beta0_hat,beta1_hat = self.estimate_OLS_params(y,T)\n",
    "            y_hat = beta0_hat + beta1_hat * T\n",
    "            treatment_effect = treatment_effect + [beta1_hat]\n",
    "            bias = bias + [np.mean(y[T==1])-np.mean(y[T==0])]\n",
    "            RMSE = RMSE + [np.sqrt(np.mean((y - y_hat) ** 2))]\n",
    "        return bias, RMSE, treatment_effect\n",
    "\n",
    "    def table(self, beta0, beta1, n, sigma):\n",
    "        bias, RMSE, treatment_effect = self.run_model(beta0, beta1, n, sigma)\n",
    "        return [np.mean(bias),np.mean(RMSE),np.mean(treatment_effect)]\n"
   ]
  },
  {
   "cell_type": "code",
   "execution_count": 45,
   "metadata": {},
   "outputs": [
    {
     "data": {
      "text/html": [
       "<div>\n",
       "<style scoped>\n",
       "    .dataframe tbody tr th:only-of-type {\n",
       "        vertical-align: middle;\n",
       "    }\n",
       "\n",
       "    .dataframe tbody tr th {\n",
       "        vertical-align: top;\n",
       "    }\n",
       "\n",
       "    .dataframe thead tr th {\n",
       "        text-align: left;\n",
       "    }\n",
       "</style>\n",
       "<table border=\"1\" class=\"dataframe\">\n",
       "  <thead>\n",
       "    <tr>\n",
       "      <th></th>\n",
       "      <th>N=100</th>\n",
       "      <th>N=1000</th>\n",
       "    </tr>\n",
       "  </thead>\n",
       "  <tbody>\n",
       "    <tr>\n",
       "      <th>Bias</th>\n",
       "      <td>1.857086</td>\n",
       "      <td>-0.373885</td>\n",
       "    </tr>\n",
       "    <tr>\n",
       "      <th>RMSE</th>\n",
       "      <td>22.084939</td>\n",
       "      <td>21.250440</td>\n",
       "    </tr>\n",
       "    <tr>\n",
       "      <th>Treatment Effect</th>\n",
       "      <td>1.857086</td>\n",
       "      <td>-0.373885</td>\n",
       "    </tr>\n",
       "  </tbody>\n",
       "</table>\n",
       "</div>"
      ],
      "text/plain": [
       "                      N=100     N=1000\n",
       "Bias               1.857086  -0.373885\n",
       "RMSE              22.084939  21.250440\n",
       "Treatment Effect   1.857086  -0.373885"
      ]
     },
     "execution_count": 45,
     "metadata": {},
     "output_type": "execute_result"
    }
   ],
   "source": [
    "# N=100\n",
    "N_100 = MonteCarlo_1(10000)\n",
    "table_100 = N_100.table(1,1,100,1)\n",
    "\n",
    "# N=1000\n",
    "N_1000 = MonteCarlo_1(10000)\n",
    "table_1000 = N_1000.table(1,1,1000,1)\n",
    "\n",
    "table = pd.concat([pd.Series(table_100),pd.Series(table_1000)],axis = 1)\n",
    "table.columns = [['N=100','N=1000']]\n",
    "table.index = [['Bias','RMSE','Treatment Effect']]\n",
    "table"
   ]
  },
  {
   "cell_type": "markdown",
   "metadata": {},
   "source": [
    "Control for covariance"
   ]
  },
  {
   "cell_type": "code",
   "execution_count": 46,
   "metadata": {},
   "outputs": [],
   "source": [
    "class MonteCarlo_2():\n",
    "    \n",
    "    def __init__(self, number):\n",
    "        self.number = number\n",
    "\n",
    "    def simulate_data(self, beta0, beta1, beta2, n, sigma):\n",
    "        np.random.seed(100)\n",
    "        T = np.random.binomial(1, 0.5, n)\n",
    "        x = np.random.normal(50,15,n)\n",
    "        y = np.random.normal(beta0 + beta1*T + beta2*x, 15).astype(int)\n",
    "        \n",
    "        return (y, T, x)\n",
    "    \n",
    "    def estimate_OLS_params(self,y,T,x):\n",
    "        \n",
    "        mod = sm.OLS(y, sm.add_constant(pd.concat([pd.Series(T),pd.Series(x)], axis=1)))\n",
    "        res = mod.fit()\n",
    "        \n",
    "        return res.params\n",
    "    \n",
    "    def run_model(self, beta0, beta1, beta2, n, sigma):\n",
    "        \n",
    "        treatment_effect = []\n",
    "        bias = []\n",
    "        RMSE = []\n",
    "        for i in range(self.number):\n",
    "            y,T,x = self.simulate_data(beta0, beta1, beta2, n, sigma)\n",
    "            beta0_hat,beta1_hat,beta2_hat = self.estimate_OLS_params(y,T,x)\n",
    "            y_hat = beta0_hat + beta1_hat * T + beta2_hat * x\n",
    "            treatment_effect = treatment_effect + [beta1_hat]\n",
    "            bias = bias + [np.mean(y[T==1])-np.mean(y[T==0])]\n",
    "            RMSE = RMSE + [np.sqrt(np.mean((y - y_hat) ** 2))]\n",
    "        return bias, RMSE, treatment_effect\n",
    "    \n",
    "    def table(self, beta0, beta1, beta2, n, sigma):\n",
    "        bias, RMSE, treatment_effect = self.run_model(beta0,beta1,beta2,n,sigma)\n",
    "        return [np.mean(bias),np.mean(RMSE),np.mean(treatment_effect)]"
   ]
  },
  {
   "cell_type": "code",
   "execution_count": 47,
   "metadata": {},
   "outputs": [
    {
     "name": "stderr",
     "output_type": "stream",
     "text": [
      "/Users/chenxintong/opt/anaconda3/lib/python3.9/site-packages/statsmodels/tsa/tsatools.py:142: FutureWarning: In a future version of pandas all arguments of concat except for the argument 'objs' will be keyword-only\n",
      "  x = pd.concat(x[::order], 1)\n"
     ]
    },
    {
     "data": {
      "text/html": [
       "<div>\n",
       "<style scoped>\n",
       "    .dataframe tbody tr th:only-of-type {\n",
       "        vertical-align: middle;\n",
       "    }\n",
       "\n",
       "    .dataframe tbody tr th {\n",
       "        vertical-align: top;\n",
       "    }\n",
       "\n",
       "    .dataframe thead tr th {\n",
       "        text-align: left;\n",
       "    }\n",
       "</style>\n",
       "<table border=\"1\" class=\"dataframe\">\n",
       "  <thead>\n",
       "    <tr>\n",
       "      <th></th>\n",
       "      <th>N=100</th>\n",
       "      <th>N=1000</th>\n",
       "    </tr>\n",
       "  </thead>\n",
       "  <tbody>\n",
       "    <tr>\n",
       "      <th>Bias</th>\n",
       "      <td>1.857086</td>\n",
       "      <td>-0.373885</td>\n",
       "    </tr>\n",
       "    <tr>\n",
       "      <th>RMSE</th>\n",
       "      <td>15.241497</td>\n",
       "      <td>14.929098</td>\n",
       "    </tr>\n",
       "    <tr>\n",
       "      <th>Treatment Effect</th>\n",
       "      <td>2.147312</td>\n",
       "      <td>0.553387</td>\n",
       "    </tr>\n",
       "  </tbody>\n",
       "</table>\n",
       "</div>"
      ],
      "text/plain": [
       "                      N=100     N=1000\n",
       "Bias               1.857086  -0.373885\n",
       "RMSE              15.241497  14.929098\n",
       "Treatment Effect   2.147312   0.553387"
      ]
     },
     "execution_count": 47,
     "metadata": {},
     "output_type": "execute_result"
    }
   ],
   "source": [
    "\n",
    "# N=100\n",
    "N_100 = MonteCarlo_2(10000)\n",
    "table_100 = N_100.table(1,1,1,100,1)\n",
    "\n",
    "# N=1000\n",
    "N_1000 = MonteCarlo_2(10000)\n",
    "table_1000 = N_1000.table(1,1,1,1000,1)\n",
    "\n",
    "table = pd.concat([pd.Series(table_100), pd.Series(table_1000)], axis = 1)\n",
    "table.columns = [['N=100','N=1000']]\n",
    "table.index = [['Bias','RMSE','Treatment Effect']]\n",
    "table"
   ]
  },
  {
   "cell_type": "markdown",
   "metadata": {},
   "source": [
    "example of real-life situation that might be consistent with the DGP"
   ]
  },
  {
   "cell_type": "markdown",
   "metadata": {},
   "source": [
    "Y : Yearly wage in China<br>\n",
    "X : Degree of education <br>\n",
    "T : Study abroad or not <br>\n",
    "In China, the higher degree of education will noramlly lead to higher yearly wage. People who have studied abroad will have a higher wage."
   ]
  },
  {
   "cell_type": "markdown",
   "metadata": {},
   "source": [
    "## Q2"
   ]
  },
  {
   "cell_type": "code",
   "execution_count": 48,
   "metadata": {},
   "outputs": [],
   "source": [
    "np.random.seed(100)\n",
    "n = 1000\n",
    "x = np.random.normal(1,10,n)\n",
    "T = np.random.binomial(1, 1/(1+x**2), n)\n",
    "y = np.random.normal(1 + 1*x + 1*T, 10).astype(int)\n",
    "\n",
    "DGP_data2 = pd.DataFrame(dict(T = T, X = x, Y = y))\n",
    "DGP_data2.to_csv(\"DGP_data2.csv\", index=False)"
   ]
  },
  {
   "cell_type": "code",
   "execution_count": 49,
   "metadata": {},
   "outputs": [
    {
     "data": {
      "text/html": [
       "<div>\n",
       "<style scoped>\n",
       "    .dataframe tbody tr th:only-of-type {\n",
       "        vertical-align: middle;\n",
       "    }\n",
       "\n",
       "    .dataframe tbody tr th {\n",
       "        vertical-align: top;\n",
       "    }\n",
       "\n",
       "    .dataframe thead th {\n",
       "        text-align: right;\n",
       "    }\n",
       "</style>\n",
       "<table border=\"1\" class=\"dataframe\">\n",
       "  <thead>\n",
       "    <tr style=\"text-align: right;\">\n",
       "      <th></th>\n",
       "      <th>T</th>\n",
       "      <th>X</th>\n",
       "      <th>Y</th>\n",
       "    </tr>\n",
       "  </thead>\n",
       "  <tbody>\n",
       "    <tr>\n",
       "      <th>0</th>\n",
       "      <td>0</td>\n",
       "      <td>-16.497655</td>\n",
       "      <td>-13</td>\n",
       "    </tr>\n",
       "    <tr>\n",
       "      <th>1</th>\n",
       "      <td>0</td>\n",
       "      <td>4.426804</td>\n",
       "      <td>10</td>\n",
       "    </tr>\n",
       "    <tr>\n",
       "      <th>2</th>\n",
       "      <td>0</td>\n",
       "      <td>12.530358</td>\n",
       "      <td>18</td>\n",
       "    </tr>\n",
       "    <tr>\n",
       "      <th>3</th>\n",
       "      <td>0</td>\n",
       "      <td>-1.524360</td>\n",
       "      <td>5</td>\n",
       "    </tr>\n",
       "    <tr>\n",
       "      <th>4</th>\n",
       "      <td>0</td>\n",
       "      <td>10.813208</td>\n",
       "      <td>11</td>\n",
       "    </tr>\n",
       "    <tr>\n",
       "      <th>...</th>\n",
       "      <td>...</td>\n",
       "      <td>...</td>\n",
       "      <td>...</td>\n",
       "    </tr>\n",
       "    <tr>\n",
       "      <th>995</th>\n",
       "      <td>0</td>\n",
       "      <td>-6.379887</td>\n",
       "      <td>-20</td>\n",
       "    </tr>\n",
       "    <tr>\n",
       "      <th>996</th>\n",
       "      <td>0</td>\n",
       "      <td>14.263448</td>\n",
       "      <td>3</td>\n",
       "    </tr>\n",
       "    <tr>\n",
       "      <th>997</th>\n",
       "      <td>0</td>\n",
       "      <td>10.270035</td>\n",
       "      <td>22</td>\n",
       "    </tr>\n",
       "    <tr>\n",
       "      <th>998</th>\n",
       "      <td>0</td>\n",
       "      <td>3.130922</td>\n",
       "      <td>23</td>\n",
       "    </tr>\n",
       "    <tr>\n",
       "      <th>999</th>\n",
       "      <td>0</td>\n",
       "      <td>14.283331</td>\n",
       "      <td>17</td>\n",
       "    </tr>\n",
       "  </tbody>\n",
       "</table>\n",
       "<p>1000 rows × 3 columns</p>\n",
       "</div>"
      ],
      "text/plain": [
       "     T          X   Y\n",
       "0    0 -16.497655 -13\n",
       "1    0   4.426804  10\n",
       "2    0  12.530358  18\n",
       "3    0  -1.524360   5\n",
       "4    0  10.813208  11\n",
       "..  ..        ...  ..\n",
       "995  0  -6.379887 -20\n",
       "996  0  14.263448   3\n",
       "997  0  10.270035  22\n",
       "998  0   3.130922  23\n",
       "999  0  14.283331  17\n",
       "\n",
       "[1000 rows x 3 columns]"
      ]
     },
     "execution_count": 49,
     "metadata": {},
     "output_type": "execute_result"
    }
   ],
   "source": [
    "DGP_data2"
   ]
  },
  {
   "cell_type": "code",
   "execution_count": 50,
   "metadata": {},
   "outputs": [
    {
     "data": {
      "image/png": "[encoded data removed]",
      "text/plain": [
       "<Figure size 432x288 with 1 Axes>"
      ]
     },
     "metadata": {},
     "output_type": "display_data"
    }
   ],
   "source": [
    "# Illustrate your DGP with a DAG\n",
    "g1 = nx.DiGraph()\n",
    "g1.add_edges_from([(\"X\", \"T\"), (\"T\", \"Y\"), (\"X\", \"Y\")])\n",
    "plt.tight_layout()\n",
    "nx.draw_networkx(g1, arrows=True)"
   ]
  },
  {
   "cell_type": "markdown",
   "metadata": {},
   "source": [
    "You fail to control for the confounder "
   ]
  },
  {
   "cell_type": "code",
   "execution_count": 51,
   "metadata": {},
   "outputs": [],
   "source": [
    "class MonteCarlo_3():\n",
    "    \n",
    "    def __init__(self,number):\n",
    "        self.number = number\n",
    "\n",
    "    def simulate_data(self, beta0, beta1, n, sigma):\n",
    "        np.random.seed(100)\n",
    "        x = np.random.normal(1,10,n)\n",
    "        T = np.random.binomial(1, 1/(1+x**2), n)\n",
    "        y = np.random.normal(beta0 + beta1*T + 1*x, 10).astype(int)\n",
    "\n",
    "        return (y,T)\n",
    "    \n",
    "    def estimate_OLS_params(self,y,T):\n",
    "        model = sm.OLS(y,sm.add_constant(T))\n",
    "        res = model.fit()\n",
    "        \n",
    "        return res.params\n",
    "    \n",
    "    def run_model(self,beta0,beta1,n,sigma):\n",
    "        treatment_effect = []\n",
    "        bias = []\n",
    "        RMSE = []\n",
    "        for i in range(self.number):\n",
    "            y,T = self.simulate_data(beta0,beta1,n,sigma)\n",
    "            beta0_hat,beta1_hat = self.estimate_OLS_params(y,T)\n",
    "            y_hat = beta0_hat + beta1_hat * T\n",
    "            treatment_effect = treatment_effect + [beta1_hat]\n",
    "            bias = bias + [np.mean(y[T==1])-np.mean(y[T==0])]\n",
    "            RMSE = RMSE + [np.sqrt(np.mean((y-y_hat)**2))]\n",
    "        return bias, RMSE, treatment_effect\n",
    "    \n",
    "    def table(self,beta0,beta1,n,sigma):\n",
    "        bias, RMSE, treatment_effect = self.run_model(beta0,beta1,n,sigma)\n",
    "        return [np.mean(bias),np.mean(RMSE),np.mean(treatment_effect)]"
   ]
  },
  {
   "cell_type": "code",
   "execution_count": 52,
   "metadata": {},
   "outputs": [
    {
     "data": {
      "text/html": [
       "<div>\n",
       "<style scoped>\n",
       "    .dataframe tbody tr th:only-of-type {\n",
       "        vertical-align: middle;\n",
       "    }\n",
       "\n",
       "    .dataframe tbody tr th {\n",
       "        vertical-align: top;\n",
       "    }\n",
       "\n",
       "    .dataframe thead tr th {\n",
       "        text-align: left;\n",
       "    }\n",
       "</style>\n",
       "<table border=\"1\" class=\"dataframe\">\n",
       "  <thead>\n",
       "    <tr>\n",
       "      <th></th>\n",
       "      <th>N=100</th>\n",
       "      <th>N=1000</th>\n",
       "    </tr>\n",
       "  </thead>\n",
       "  <tbody>\n",
       "    <tr>\n",
       "      <th>bias</th>\n",
       "      <td>2.498339</td>\n",
       "      <td>1.102570</td>\n",
       "    </tr>\n",
       "    <tr>\n",
       "      <th>RMSE</th>\n",
       "      <td>14.034247</td>\n",
       "      <td>13.916441</td>\n",
       "    </tr>\n",
       "    <tr>\n",
       "      <th>treatment effect</th>\n",
       "      <td>2.498339</td>\n",
       "      <td>1.102570</td>\n",
       "    </tr>\n",
       "  </tbody>\n",
       "</table>\n",
       "</div>"
      ],
      "text/plain": [
       "                      N=100     N=1000\n",
       "bias               2.498339   1.102570\n",
       "RMSE              14.034247  13.916441\n",
       "treatment effect   2.498339   1.102570"
      ]
     },
     "execution_count": 52,
     "metadata": {},
     "output_type": "execute_result"
    }
   ],
   "source": [
    "# N=100\n",
    "N_100 = MonteCarlo_3(10000)\n",
    "table_100 = N_100.table(1,1,100,1)\n",
    "\n",
    "# N=1000\n",
    "N_1000 = MonteCarlo_3(10000)\n",
    "table_1000 = N_1000.table(1,1,1000,1)\n",
    "\n",
    "table = pd.concat([pd.Series(table_100),pd.Series(table_1000)],axis = 1)\n",
    "table.columns = [['N=100','N=1000']]\n",
    "table.index = [['bias','RMSE','treatment effect']]\n",
    "table"
   ]
  },
  {
   "cell_type": "markdown",
   "metadata": {},
   "source": [
    "You do control for the confounder"
   ]
  },
  {
   "cell_type": "code",
   "execution_count": 53,
   "metadata": {},
   "outputs": [],
   "source": [
    "class MC_Simulator_4():\n",
    "    \n",
    "    def __init__(self,number):\n",
    "        self.number = number\n",
    "\n",
    "    def simulate_data(self, beta0, beta1, beta2, n, sigma):\n",
    "        np.random.seed(100)\n",
    "        x = np.random.normal(1,10,n)\n",
    "        T = np.random.binomial(1, 1/(1+x**2), n)\n",
    "        y = np.random.normal(beta0 + beta1*T + beta2*x, 10).astype(int)\n",
    "        \n",
    "        return (y,T,x)  \n",
    "    \n",
    "    def estimate_OLS_params(self,y,T,x):\n",
    "        \n",
    "        mod = sm.OLS(y,sm.add_constant(pd.concat([pd.Series(T),pd.Series(x)],axis=1)))\n",
    "        res = mod.fit()\n",
    "        \n",
    "        return res.params\n",
    "    \n",
    "    def run_model(self,beta0,beta1,beta2,n,sigma):\n",
    "        \n",
    "        treatment_effect = []\n",
    "        bias = []\n",
    "        RMSE = []\n",
    "        for i in range(self.number):\n",
    "            y,T,x = self.simulate_data(beta0,beta1,beta2,n,sigma)\n",
    "            beta0_hat,beta1_hat,beta2_hat = self.estimate_OLS_params(y,T,x)\n",
    "            y_hat = beta0_hat + beta1_hat * T + beta2_hat * x\n",
    "            treatment_effect = treatment_effect + [beta1_hat]\n",
    "            bias = bias + [np.mean(y[T==1])-np.mean(y[T==0])]\n",
    "            RMSE = RMSE + [np.sqrt(np.mean((y-y_hat)**2))]\n",
    "        return bias, RMSE, treatment_effect\n",
    "    \n",
    "    def table(self,beta0,beta1,beta2,n,sigma):\n",
    "        bias, RMSE, treatment_effect = self.run_model(beta0,beta1,beta2,n,sigma)\n",
    "        return [np.mean(bias),np.mean(RMSE),np.mean(treatment_effect)]"
   ]
  },
  {
   "cell_type": "code",
   "execution_count": 54,
   "metadata": {},
   "outputs": [
    {
     "name": "stderr",
     "output_type": "stream",
     "text": [
      "/Users/chenxintong/opt/anaconda3/lib/python3.9/site-packages/statsmodels/tsa/tsatools.py:142: FutureWarning: In a future version of pandas all arguments of concat except for the argument 'objs' will be keyword-only\n",
      "  x = pd.concat(x[::order], 1)\n"
     ]
    },
    {
     "data": {
      "text/html": [
       "<div>\n",
       "<style scoped>\n",
       "    .dataframe tbody tr th:only-of-type {\n",
       "        vertical-align: middle;\n",
       "    }\n",
       "\n",
       "    .dataframe tbody tr th {\n",
       "        vertical-align: top;\n",
       "    }\n",
       "\n",
       "    .dataframe thead tr th {\n",
       "        text-align: left;\n",
       "    }\n",
       "</style>\n",
       "<table border=\"1\" class=\"dataframe\">\n",
       "  <thead>\n",
       "    <tr>\n",
       "      <th></th>\n",
       "      <th>N=100</th>\n",
       "      <th>N=1000</th>\n",
       "    </tr>\n",
       "  </thead>\n",
       "  <tbody>\n",
       "    <tr>\n",
       "      <th>Bias</th>\n",
       "      <td>2.498339</td>\n",
       "      <td>1.102570</td>\n",
       "    </tr>\n",
       "    <tr>\n",
       "      <th>RMSE</th>\n",
       "      <td>9.823177</td>\n",
       "      <td>9.669651</td>\n",
       "    </tr>\n",
       "    <tr>\n",
       "      <th>Treatment Effect</th>\n",
       "      <td>-0.184822</td>\n",
       "      <td>1.869764</td>\n",
       "    </tr>\n",
       "  </tbody>\n",
       "</table>\n",
       "</div>"
      ],
      "text/plain": [
       "                     N=100    N=1000\n",
       "Bias              2.498339  1.102570\n",
       "RMSE              9.823177  9.669651\n",
       "Treatment Effect -0.184822  1.869764"
      ]
     },
     "execution_count": 54,
     "metadata": {},
     "output_type": "execute_result"
    }
   ],
   "source": [
    "# N=100\n",
    "N_100 = MC_Simulator_4(10000)\n",
    "table_100 = N_100.table(1,1,1,100,1)\n",
    "\n",
    "# N=1000\n",
    "N_1000 = MC_Simulator_4(10000)\n",
    "table_1000 = N_1000.table(1,1,1,1000,1)\n",
    "\n",
    "table = pd.concat([pd.Series(table_100),pd.Series(table_1000)],axis = 1)\n",
    "table.columns = [['N=100','N=1000']]\n",
    "table.index = [['Bias','RMSE','Treatment Effect']]\n",
    "table"
   ]
  },
  {
   "cell_type": "markdown",
   "metadata": {},
   "source": [
    "example of real-life situation that might be consistent with the DGP"
   ]
  },
  {
   "cell_type": "markdown",
   "metadata": {},
   "source": [
    "T : Total area of a house.<br>\n",
    "Y : Price of the house.<br>\n",
    "X : Distance to center of a city.<br>\n",
    "Generally, if a house is closer to the center of a city, the price will be higher. And the bigger the house is, the higher the price is. However, most houses in the center of the city is smaller than the houses in the countryside."
   ]
  },
  {
   "cell_type": "markdown",
   "metadata": {},
   "source": [
    "## Q3"
   ]
  },
  {
   "cell_type": "code",
   "execution_count": 55,
   "metadata": {},
   "outputs": [],
   "source": [
    "# Simulate a DGP with selection bias into the treatment \n",
    "# (variable in between the path from the treatment to the outcome)\n",
    "np.random.seed(100)\n",
    "n = 1000\n",
    "T = np.random.binomial(1, 0.5, n)\n",
    "y = np.random.normal(1 + 1*T, 10).astype(int)\n",
    "x = np.random.normal(10 + np.mean(T) * np.mean(y), 10, n)\n",
    "\n",
    "DGP_data3 = pd.DataFrame(dict(T = T, X = x, Y = y))\n",
    "DGP_data3.to_csv(\"DGP_data3.csv\", index=False)"
   ]
  },
  {
   "cell_type": "code",
   "execution_count": 56,
   "metadata": {},
   "outputs": [
    {
     "data": {
      "text/html": [
       "<div>\n",
       "<style scoped>\n",
       "    .dataframe tbody tr th:only-of-type {\n",
       "        vertical-align: middle;\n",
       "    }\n",
       "\n",
       "    .dataframe tbody tr th {\n",
       "        vertical-align: top;\n",
       "    }\n",
       "\n",
       "    .dataframe thead th {\n",
       "        text-align: right;\n",
       "    }\n",
       "</style>\n",
       "<table border=\"1\" class=\"dataframe\">\n",
       "  <thead>\n",
       "    <tr style=\"text-align: right;\">\n",
       "      <th></th>\n",
       "      <th>T</th>\n",
       "      <th>X</th>\n",
       "      <th>Y</th>\n",
       "    </tr>\n",
       "  </thead>\n",
       "  <tbody>\n",
       "    <tr>\n",
       "      <th>0</th>\n",
       "      <td>1</td>\n",
       "      <td>-0.613821</td>\n",
       "      <td>1</td>\n",
       "    </tr>\n",
       "    <tr>\n",
       "      <th>1</th>\n",
       "      <td>0</td>\n",
       "      <td>1.604166</td>\n",
       "      <td>-2</td>\n",
       "    </tr>\n",
       "    <tr>\n",
       "      <th>2</th>\n",
       "      <td>0</td>\n",
       "      <td>-4.741078</td>\n",
       "      <td>10</td>\n",
       "    </tr>\n",
       "    <tr>\n",
       "      <th>3</th>\n",
       "      <td>1</td>\n",
       "      <td>-0.706196</td>\n",
       "      <td>-3</td>\n",
       "    </tr>\n",
       "    <tr>\n",
       "      <th>4</th>\n",
       "      <td>0</td>\n",
       "      <td>15.811746</td>\n",
       "      <td>-3</td>\n",
       "    </tr>\n",
       "    <tr>\n",
       "      <th>...</th>\n",
       "      <td>...</td>\n",
       "      <td>...</td>\n",
       "      <td>...</td>\n",
       "    </tr>\n",
       "    <tr>\n",
       "      <th>995</th>\n",
       "      <td>1</td>\n",
       "      <td>12.067581</td>\n",
       "      <td>11</td>\n",
       "    </tr>\n",
       "    <tr>\n",
       "      <th>996</th>\n",
       "      <td>0</td>\n",
       "      <td>8.862671</td>\n",
       "      <td>1</td>\n",
       "    </tr>\n",
       "    <tr>\n",
       "      <th>997</th>\n",
       "      <td>0</td>\n",
       "      <td>4.251529</td>\n",
       "      <td>0</td>\n",
       "    </tr>\n",
       "    <tr>\n",
       "      <th>998</th>\n",
       "      <td>0</td>\n",
       "      <td>23.863377</td>\n",
       "      <td>-6</td>\n",
       "    </tr>\n",
       "    <tr>\n",
       "      <th>999</th>\n",
       "      <td>1</td>\n",
       "      <td>3.237059</td>\n",
       "      <td>14</td>\n",
       "    </tr>\n",
       "  </tbody>\n",
       "</table>\n",
       "<p>1000 rows × 3 columns</p>\n",
       "</div>"
      ],
      "text/plain": [
       "     T          X   Y\n",
       "0    1  -0.613821   1\n",
       "1    0   1.604166  -2\n",
       "2    0  -4.741078  10\n",
       "3    1  -0.706196  -3\n",
       "4    0  15.811746  -3\n",
       "..  ..        ...  ..\n",
       "995  1  12.067581  11\n",
       "996  0   8.862671   1\n",
       "997  0   4.251529   0\n",
       "998  0  23.863377  -6\n",
       "999  1   3.237059  14\n",
       "\n",
       "[1000 rows x 3 columns]"
      ]
     },
     "execution_count": 56,
     "metadata": {},
     "output_type": "execute_result"
    }
   ],
   "source": [
    "DGP_data3"
   ]
  },
  {
   "cell_type": "code",
   "execution_count": 64,
   "metadata": {},
   "outputs": [
    {
     "data": {
      "image/png": "[encoded data removed]",
      "text/plain": [
       "<Figure size 432x288 with 1 Axes>"
      ]
     },
     "metadata": {},
     "output_type": "display_data"
    }
   ],
   "source": [
    "# Illustrate your DGP with a DAG\n",
    "g1 = nx.DiGraph()\n",
    "g1.add_edges_from([(\"T\", \"X\"), (\"T\", \"Y\"), (\"Y\", \"X\")])\n",
    "plt.tight_layout()\n",
    "nx.draw_networkx(g1, arrows=True)"
   ]
  },
  {
   "cell_type": "markdown",
   "metadata": {},
   "source": [
    "You control for the variable in between the path from cause to effect"
   ]
  },
  {
   "cell_type": "code",
   "execution_count": 58,
   "metadata": {},
   "outputs": [],
   "source": [
    "class MonteCarlo_5():\n",
    "\n",
    "    def __init__(self,number):\n",
    "        self.number = number\n",
    "\n",
    "    def simulate_data(self, beta0, beta1, beta2, n, sigma):\n",
    "        np.random.seed(100)\n",
    "        T = np.random.binomial(1, 0.5, n)\n",
    "        y = np.random.normal(1 + 1 * T, 5).astype(int)\n",
    "        x = np.random.normal(10 + np.mean(T) * np.mean(y), 5, n)\n",
    "        \n",
    "        return (y,T,x)\n",
    "    \n",
    "    def estimate_OLS_params(self,y,T,x):\n",
    "        \n",
    "        mod = sm.OLS(y,sm.add_constant(pd.concat([pd.Series(T),pd.Series(x)],axis=1)))\n",
    "        res = mod.fit()\n",
    "        \n",
    "        return res.params\n",
    "    \n",
    "    def run_model(self, beta0, beta1, beta2, n, sigma):\n",
    "        \n",
    "        treatment_effect = []\n",
    "        bias = []\n",
    "        RMSE = []\n",
    "        for i in range(self.number):\n",
    "            y,T,x = self.simulate_data(beta0, beta1, beta2, n, sigma)\n",
    "            beta0_hat,beta1_hat,beta2_hat = self.estimate_OLS_params(y, T, x)\n",
    "            y_hat = beta0_hat + beta1_hat * T + beta2_hat * x\n",
    "            treatment_effect = treatment_effect + [beta1_hat]\n",
    "            bias = bias + [np.mean(y[T==1])-np.mean(y[T==0])]\n",
    "            RMSE = RMSE + [np.sqrt(np.mean((y - y_hat)**2))]\n",
    "        return bias, RMSE, treatment_effect\n",
    "    \n",
    "    def table(self, beta0, beta1, beta2, n, sigma):\n",
    "        bias, RMSE, treatment_effect = self.run_model(beta0,beta1,beta2,n,sigma)\n",
    "        return [np.mean(bias),np.mean(RMSE),np.mean(treatment_effect)]"
   ]
  },
  {
   "cell_type": "code",
   "execution_count": 59,
   "metadata": {},
   "outputs": [
    {
     "name": "stderr",
     "output_type": "stream",
     "text": [
      "/Users/chenxintong/opt/anaconda3/lib/python3.9/site-packages/statsmodels/tsa/tsatools.py:142: FutureWarning: In a future version of pandas all arguments of concat except for the argument 'objs' will be keyword-only\n",
      "  x = pd.concat(x[::order], 1)\n"
     ]
    },
    {
     "data": {
      "text/html": [
       "<div>\n",
       "<style scoped>\n",
       "    .dataframe tbody tr th:only-of-type {\n",
       "        vertical-align: middle;\n",
       "    }\n",
       "\n",
       "    .dataframe tbody tr th {\n",
       "        vertical-align: top;\n",
       "    }\n",
       "\n",
       "    .dataframe thead tr th {\n",
       "        text-align: left;\n",
       "    }\n",
       "</style>\n",
       "<table border=\"1\" class=\"dataframe\">\n",
       "  <thead>\n",
       "    <tr>\n",
       "      <th></th>\n",
       "      <th>N=100</th>\n",
       "      <th>N=1000</th>\n",
       "    </tr>\n",
       "  </thead>\n",
       "  <tbody>\n",
       "    <tr>\n",
       "      <th>Bias</th>\n",
       "      <td>0.783220</td>\n",
       "      <td>0.618050</td>\n",
       "    </tr>\n",
       "    <tr>\n",
       "      <th>RMSE</th>\n",
       "      <td>4.978666</td>\n",
       "      <td>4.649170</td>\n",
       "    </tr>\n",
       "    <tr>\n",
       "      <th>Treatment Effect</th>\n",
       "      <td>0.785647</td>\n",
       "      <td>0.619232</td>\n",
       "    </tr>\n",
       "  </tbody>\n",
       "</table>\n",
       "</div>"
      ],
      "text/plain": [
       "                     N=100    N=1000\n",
       "Bias              0.783220  0.618050\n",
       "RMSE              4.978666  4.649170\n",
       "Treatment Effect  0.785647  0.619232"
      ]
     },
     "execution_count": 59,
     "metadata": {},
     "output_type": "execute_result"
    }
   ],
   "source": [
    "# N=100\n",
    "N_100 = MonteCarlo_5(10000)\n",
    "table_100 = N_100.table(1,1,1,100,1)\n",
    "\n",
    "# N=1000\n",
    "N_1000 = MonteCarlo_5(10000)\n",
    "table_1000 = N_1000.table(1,1,1,1000,1)\n",
    "\n",
    "table = pd.concat([pd.Series(table_100),pd.Series(table_1000)],axis = 1)\n",
    "table.columns = [['N=100','N=1000']]\n",
    "table.index = [['Bias','RMSE','Treatment Effect']]\n",
    "table"
   ]
  },
  {
   "cell_type": "markdown",
   "metadata": {},
   "source": [
    "You do not control for the variable in between the path from cause to effect"
   ]
  },
  {
   "cell_type": "code",
   "execution_count": 60,
   "metadata": {},
   "outputs": [],
   "source": [
    "class MC_Simulator_6():\n",
    "    \n",
    "    def __init__(self,number):\n",
    "        self.number = number\n",
    "\n",
    "    def simulate_data(self, beta0, beta1, n, sigma):\n",
    "        np.random.seed(100)\n",
    "        T = np.random.binomial(1, 0.5, n)\n",
    "        y = np.random.normal(1 + 1*T, 5).astype(int)\n",
    "        x = np.random.normal(10 + np.mean(T) * np.mean(y), 5, n)\n",
    "        \n",
    "        return (y,T)    \n",
    "    \n",
    "    def estimate_OLS_params(self, y, T):\n",
    "        mod = sm.OLS(y,sm.add_constant(T))\n",
    "        res = mod.fit()\n",
    "        \n",
    "        return res.params\n",
    "    \n",
    "    def run_model(self,beta0,beta1,n,sigma):\n",
    "        \n",
    "        treatment_effect = []\n",
    "        bias = []\n",
    "        RMSE = []\n",
    "        for i in range(self.number):\n",
    "            y,T = self.simulate_data(beta0, beta1, n, sigma)\n",
    "            beta0_hat,beta1_hat = self.estimate_OLS_params(y,T)\n",
    "            y_hat = beta0_hat + beta1_hat * T\n",
    "            treatment_effect = treatment_effect + [beta1_hat]\n",
    "            bias = bias + [np.mean(y[T==1])-np.mean(y[T==0])]\n",
    "            RMSE = RMSE + [np.sqrt(np.mean((y-y_hat) ** 2))]\n",
    "        return bias, RMSE, treatment_effect\n",
    "    \n",
    "    def table(self,beta0,beta1,n,sigma):\n",
    "        bias, RMSE, treatment_effect = self.run_model(beta0,beta1,n,sigma)\n",
    "        return [np.mean(bias),np.mean(RMSE),np.mean(treatment_effect)]"
   ]
  },
  {
   "cell_type": "code",
   "execution_count": 61,
   "metadata": {},
   "outputs": [
    {
     "data": {
      "text/html": [
       "<div>\n",
       "<style scoped>\n",
       "    .dataframe tbody tr th:only-of-type {\n",
       "        vertical-align: middle;\n",
       "    }\n",
       "\n",
       "    .dataframe tbody tr th {\n",
       "        vertical-align: top;\n",
       "    }\n",
       "\n",
       "    .dataframe thead tr th {\n",
       "        text-align: left;\n",
       "    }\n",
       "</style>\n",
       "<table border=\"1\" class=\"dataframe\">\n",
       "  <thead>\n",
       "    <tr>\n",
       "      <th></th>\n",
       "      <th>N=100</th>\n",
       "      <th>N=1000</th>\n",
       "    </tr>\n",
       "  </thead>\n",
       "  <tbody>\n",
       "    <tr>\n",
       "      <th>Bias</th>\n",
       "      <td>0.783220</td>\n",
       "      <td>0.61805</td>\n",
       "    </tr>\n",
       "    <tr>\n",
       "      <th>RMSE</th>\n",
       "      <td>4.978784</td>\n",
       "      <td>4.64934</td>\n",
       "    </tr>\n",
       "    <tr>\n",
       "      <th>Treatment Effect</th>\n",
       "      <td>0.783220</td>\n",
       "      <td>0.61805</td>\n",
       "    </tr>\n",
       "  </tbody>\n",
       "</table>\n",
       "</div>"
      ],
      "text/plain": [
       "                     N=100   N=1000\n",
       "Bias              0.783220  0.61805\n",
       "RMSE              4.978784  4.64934\n",
       "Treatment Effect  0.783220  0.61805"
      ]
     },
     "execution_count": 61,
     "metadata": {},
     "output_type": "execute_result"
    }
   ],
   "source": [
    "# N=100\n",
    "N_100 = MC_Simulator_6(10000)\n",
    "table_100 = N_100.table(1,1,100,1)\n",
    "\n",
    "# N=1000\n",
    "N_1000 = MC_Simulator_6(10000)\n",
    "table_1000 = N_1000.table(1,1,1000,1)\n",
    "\n",
    "table = pd.concat([pd.Series(table_100),pd.Series(table_1000)],axis = 1)\n",
    "table.columns = [['N=100','N=1000']]\n",
    "table.index = [['Bias','RMSE','Treatment Effect']]\n",
    "table"
   ]
  },
  {
   "cell_type": "markdown",
   "metadata": {},
   "source": [
    "example of real-life situation that might be consistent with the DGP"
   ]
  },
  {
   "cell_type": "markdown",
   "metadata": {},
   "source": [
    "T : Have had jobs or not.<br>\n",
    "Y : Professional abilities in the area.<br>\n",
    "X : Position in a company.<br>\n",
    "If a person have had jobs before, he will have more professional abilities in the area and then will have a higher position in a new company.\n"
   ]
  }
 ],
 "metadata": {
  "interpreter": {
   "hash": "df14f7d3090333b7145699d502428ad48cfb4c76053bb1c2b241871c04360d45"
  },
  "kernelspec": {
   "display_name": "Python 3.9.7 ('base')",
   "language": "python",
   "name": "python3"
  },
  "language_info": {
   "codemirror_mode": {
    "name": "ipython",
    "version": 3
   },
   "file_extension": ".py",
   "mimetype": "text/x-python",
   "name": "python",
   "nbconvert_exporter": "python",
   "pygments_lexer": "ipython3",
   "version": "3.9.7"
  },
  "orig_nbformat": 4
 },
 "nbformat": 4,
 "nbformat_minor": 2
}
